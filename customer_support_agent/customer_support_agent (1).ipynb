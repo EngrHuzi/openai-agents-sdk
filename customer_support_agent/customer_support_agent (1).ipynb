{
 "cells": [
  {
   "cell_type": "code",
   "execution_count": 1,
   "metadata": {
    "colab": {
     "base_uri": "https://localhost:8080/"
    },
    "executionInfo": {
     "elapsed": 12532,
     "status": "ok",
     "timestamp": 1748767644697,
     "user": {
      "displayName": "Muhammad Huzaifa",
      "userId": "09165703747947924483"
     },
     "user_tz": -300
    },
    "id": "fDv4awz0yod4",
    "outputId": "5b3c6dbd-5a4e-4eed-a922-dc77bd94d712"
   },
   "outputs": [
    {
     "name": "stdout",
     "output_type": "stream",
     "text": [
      "\u001b[?25l   \u001b[90m━━━━━━━━━━━━━━━━━━━━━━━━━━━━━━━━━━━━━━━━\u001b[0m \u001b[32m0.0/120.2 kB\u001b[0m \u001b[31m?\u001b[0m eta \u001b[36m-:--:--\u001b[0m\r\u001b[2K   \u001b[91m━━━━━━━━━━━━━━━━━━━━━━━━━━━━━━━━━━━━━\u001b[0m\u001b[90m╺\u001b[0m\u001b[90m━━\u001b[0m \u001b[32m112.6/120.2 kB\u001b[0m \u001b[31m8.9 MB/s\u001b[0m eta \u001b[36m0:00:01\u001b[0m\r\u001b[2K   \u001b[90m━━━━━━━━━━━━━━━━━━━━━━━━━━━━━━━━━━━━━━━━\u001b[0m \u001b[32m120.2/120.2 kB\u001b[0m \u001b[31m2.8 MB/s\u001b[0m eta \u001b[36m0:00:00\u001b[0m\n",
      "\u001b[2K   \u001b[90m━━━━━━━━━━━━━━━━━━━━━━━━━━━━━━━━━━━━━━━━\u001b[0m \u001b[32m129.3/129.3 kB\u001b[0m \u001b[31m7.2 MB/s\u001b[0m eta \u001b[36m0:00:00\u001b[0m\n",
      "\u001b[2K   \u001b[90m━━━━━━━━━━━━━━━━━━━━━━━━━━━━━━━━━━━━━━━━\u001b[0m \u001b[32m131.1/131.1 kB\u001b[0m \u001b[31m7.5 MB/s\u001b[0m eta \u001b[36m0:00:00\u001b[0m\n",
      "\u001b[2K   \u001b[90m━━━━━━━━━━━━━━━━━━━━━━━━━━━━━━━━━━━━━━━━\u001b[0m \u001b[32m44.4/44.4 kB\u001b[0m \u001b[31m3.3 MB/s\u001b[0m eta \u001b[36m0:00:00\u001b[0m\n",
      "\u001b[2K   \u001b[90m━━━━━━━━━━━━━━━━━━━━━━━━━━━━━━━━━━━━━━━━\u001b[0m \u001b[32m72.8/72.8 kB\u001b[0m \u001b[31m5.7 MB/s\u001b[0m eta \u001b[36m0:00:00\u001b[0m\n",
      "\u001b[2K   \u001b[90m━━━━━━━━━━━━━━━━━━━━━━━━━━━━━━━━━━━━━━━━\u001b[0m \u001b[32m62.4/62.4 kB\u001b[0m \u001b[31m4.6 MB/s\u001b[0m eta \u001b[36m0:00:00\u001b[0m\n",
      "\u001b[?25h"
     ]
    }
   ],
   "source": [
    "!pip install -Uq openai-agents tavily-python"
   ]
  },
  {
   "cell_type": "code",
   "execution_count": 2,
   "metadata": {
    "executionInfo": {
     "elapsed": 10,
     "status": "ok",
     "timestamp": 1748767644717,
     "user": {
      "displayName": "Muhammad Huzaifa",
      "userId": "09165703747947924483"
     },
     "user_tz": -300
    },
    "id": "t6XdD3smzQJF"
   },
   "outputs": [],
   "source": [
    "import nest_asyncio\n",
    "nest_asyncio.apply()"
   ]
  },
  {
   "cell_type": "code",
   "execution_count": 3,
   "metadata": {
    "executionInfo": {
     "elapsed": 6345,
     "status": "ok",
     "timestamp": 1748767651070,
     "user": {
      "displayName": "Muhammad Huzaifa",
      "userId": "09165703747947924483"
     },
     "user_tz": -300
    },
    "id": "CSJT-VPB0qbN"
   },
   "outputs": [],
   "source": [
    "import os\n",
    "from agents import Agent, Runner, AsyncOpenAI, OpenAIChatCompletionsModel\n",
    "from google.colab import userdata\n",
    "\n",
    "gemini_api_key = userdata.get(\"GEMINI_API_KEY\")\n",
    "search_api_key = userdata.get(\"SEARCH_API_KEY\")\n",
    "\n",
    "#Reference: https://ai.google.dev/gemini-api/docs/openai\n",
    "external_client = AsyncOpenAI(\n",
    "    api_key=gemini_api_key,\n",
    "    base_url=\"https://generativelanguage.googleapis.com/v1beta/openai/\",\n",
    ")\n",
    "\n",
    "model = OpenAIChatCompletionsModel(\n",
    "    model=\"gemini-2.0-flash\",\n",
    "    openai_client=external_client\n",
    ")"
   ]
  },
  {
   "cell_type": "code",
   "execution_count": 43,
   "metadata": {
    "executionInfo": {
     "elapsed": 134,
     "status": "ok",
     "timestamp": 1748769223444,
     "user": {
      "displayName": "Muhammad Huzaifa",
      "userId": "09165703747947924483"
     },
     "user_tz": -300
    },
    "id": "3K_8fwXP01hV"
   },
   "outputs": [],
   "source": [
    "import os\n",
    "from typing import List, Dict, Optional\n",
    "\n",
    "from agents import Agent, Runner, AsyncOpenAI, OpenAIChatCompletionsModel, handoff\n",
    "from agents.run import RunConfig"
   ]
  },
  {
   "cell_type": "code",
   "execution_count": 5,
   "metadata": {
    "executionInfo": {
     "elapsed": 9,
     "status": "ok",
     "timestamp": 1748767651145,
     "user": {
      "displayName": "Muhammad Huzaifa",
      "userId": "09165703747947924483"
     },
     "user_tz": -300
    },
    "id": "iQeIf-WVB632"
   },
   "outputs": [],
   "source": [
    "search_agent_prompt = \"\"\"\n",
    "\n",
    "System Prompt for Search Agent\n",
    "\n",
    "You are Search Agent, a highly efficient and user-focused AI designed to assist users in finding accurate and relevant information. Your primary tool is a Browsing Tool, which allows you to access and retrieve real-time data from the web. Follow these guidelines to deliver optimal performance:\n",
    "\n",
    "1. **Query Understanding**: Analyze user queries to identify key terms, intent, and context. Categorize queries as factual, informational, navigational, or visual to tailor your search strategy.\n",
    "\n",
    "2. **Information Retrieval**: Use the Browsing Tool to search web sources for relevant, authoritative, and up-to-date information. Prioritize high-quality sources and rank results based on relevance and reliability.\n",
    "\n",
    "3. **Response Delivery**: Provide clear, concise, and structured responses. Offer direct answers for factual queries, summaries or resource lists for informational queries, links for navigational queries, and media (if accessible) for visual queries.\n",
    "\n",
    "4. **Conversational Interaction**: Engage users by asking clarifying questions for ambiguous queries and supporting multi-turn conversations to refine results based on follow-up input.\n",
    "\n",
    "5. **Continuous Improvement**: Adapt responses based on user interactions and feedback to improve accuracy and relevance over time, while maintaining diverse results to avoid bias.\n",
    "\n",
    "6. **Ethical Standards**: Protect user privacy by anonymizing data and offering personalization controls. Handle sensitive topics responsibly, providing balanced information and disclaimers for medical, legal, or similar queries. Filter or warn about harmful content.\n",
    "\n",
    "7. **Accessibility and Adaptability**: Support queries in multiple languages and ensure responses are accessible to all users, including those using assistive technologies. Stay updated with the latest information to remain relevant.\n",
    "\n",
    "Your goal is to be a trustworthy and efficient assistant, delivering precise and helpful information while maintaining a user-centric and ethical approach.\n",
    "\n",
    "\"\"\""
   ]
  },
  {
   "cell_type": "code",
   "execution_count": 6,
   "metadata": {
    "executionInfo": {
     "elapsed": 198,
     "status": "ok",
     "timestamp": 1748767651352,
     "user": {
      "displayName": "Muhammad Huzaifa",
      "userId": "09165703747947924483"
     },
     "user_tz": -300
    },
    "id": "MPpB33OyBJuf"
   },
   "outputs": [],
   "source": [
    "from agents.tool import function_tool\n",
    "from tavily import TavilyClient\n",
    "\n",
    "@function_tool\n",
    "def browse_online(query: str):\n",
    "  \"\"\"Search online for the given query.\"\"\"\n",
    "  tavily_client = TavilyClient(api_key=search_api_key)\n",
    "  response = tavily_client.search(query)\n",
    "  return response\n",
    "\n",
    "search_agent = Agent(\n",
    "    name=\"Search Agent\",\n",
    "    instructions=search_agent_prompt,\n",
    "    tools=[browse_online],\n",
    "    model=model\n",
    ")"
   ]
  },
  {
   "cell_type": "code",
   "execution_count": 52,
   "metadata": {
    "colab": {
     "base_uri": "https://localhost:8080/"
    },
    "executionInfo": {
     "elapsed": 18536,
     "status": "ok",
     "timestamp": 1748773221809,
     "user": {
      "displayName": "Muhammad Huzaifa",
      "userId": "09165703747947924483"
     },
     "user_tz": -300
    },
    "id": "leGJ-bfMC6U_",
    "outputId": "8aa93500-26ba-47b1-b340-50cdc4c926f3"
   },
   "outputs": [
    {
     "name": "stdout",
     "output_type": "stream",
     "text": [
      "Please enter something: tell me weather today in lahore\n",
      "**Search Agent**:\n",
      "\n",
      " The weather in Lahore today, June 1, 2025, is sunny with a temperature of 39.3°C (102.7°F). The wind is WNW at 16.2 kph, humidity is 15%, and the UV index is 5.3.\n"
     ]
    }
   ],
   "source": [
    "# Test Search Agent\n",
    "response = Runner.run_sync(search_agent, \"What is weather in Lahore today also date ?\")\n",
    "print(response.final_output)"
   ]
  },
  {
   "cell_type": "code",
   "execution_count": 8,
   "metadata": {
    "executionInfo": {
     "elapsed": 5,
     "status": "ok",
     "timestamp": 1748767657484,
     "user": {
      "displayName": "Muhammad Huzaifa",
      "userId": "09165703747947924483"
     },
     "user_tz": -300
    },
    "id": "995y0OSH11a2"
   },
   "outputs": [],
   "source": [
    "billing_instruction=\"\"\"\n",
    "Invoicing: Generate accurate invoices for services or products, ensuring correct pricing, taxes, and discounts. Verify data like customer details and service codes.\n",
    "Payment Processing: Receive, sort, and track payments, ensuring they align with invoices. Address discrepancies promptly.\n",
    "System Management: Operate billing software, update customer information, and maintain data integrity.\n",
    "Collections: Contact customers about overdue payments, negotiate payment plans, or coordinate with collection agencies.\n",
    "Compliance: Adhere to industry regulations (e.g., HIPAA for medical billing, privacy laws for utilities). Maintain accurate records and follow ethical billing practices.\n",
    "Reporting: Generate reports on billing activities, such as revenue analysis or accounts receivable aging, to support organizational decisions.\n",
    "\"\"\""
   ]
  },
  {
   "cell_type": "code",
   "execution_count": 9,
   "metadata": {
    "executionInfo": {
     "elapsed": 48,
     "status": "ok",
     "timestamp": 1748767657537,
     "user": {
      "displayName": "Muhammad Huzaifa",
      "userId": "09165703747947924483"
     },
     "user_tz": -300
    },
    "id": "DteiLIVt192Q"
   },
   "outputs": [],
   "source": [
    "BILLING_AGENT = Agent(\n",
    "    name=\"Billing Agent\",\n",
    "    instructions=billing_instruction,\n",
    "    model=model\n",
    ")"
   ]
  },
  {
   "cell_type": "code",
   "execution_count": 10,
   "metadata": {
    "executionInfo": {
     "elapsed": 43,
     "status": "ok",
     "timestamp": 1748767657603,
     "user": {
      "displayName": "Muhammad Huzaifa",
      "userId": "09165703747947924483"
     },
     "user_tz": -300
    },
    "id": "ZOiN5hYd2F2F"
   },
   "outputs": [],
   "source": [
    "technical_instruction=\"\"\"\n",
    "Technical Support: Diagnose and resolve technical issues for customers or employees, such as software bugs, hardware malfunctions, or connectivity problems.\n",
    "Customer Interaction: Communicate with users via phone, email, chat, or in-person to understand issues, provide solutions, or escalate complex cases.\n",
    "Documentation: Log issues, solutions, and customer interactions in a ticketing system (e.g., Zendesk, ServiceNow) for tracking and reporting.\n",
    "System Maintenance: Monitor and maintain systems, networks, or devices to ensure optimal performance. Perform updates or patches as needed.\n",
    "Training and Guidance: Educate users on system usage, troubleshooting steps, or best practices to prevent recurring issues.\n",
    "Compliance: Adhere to company policies, data privacy regulations (e.g., GDPR, HIPAA), and industry standards.\n",
    "\"\"\""
   ]
  },
  {
   "cell_type": "code",
   "execution_count": 42,
   "metadata": {
    "executionInfo": {
     "elapsed": 119,
     "status": "ok",
     "timestamp": 1748769200600,
     "user": {
      "displayName": "Muhammad Huzaifa",
      "userId": "09165703747947924483"
     },
     "user_tz": -300
    },
    "id": "YAGxCgZLtuAx"
   },
   "outputs": [],
   "source": [
    "\n",
    "\n",
    "    TECHNICAL_AGENT = Agent(\n",
    "    name=\"Technical Agent\",\n",
    "    instructions=technical_instruction,\n",
    "    model=model,\n",
    "\n",
    ")"
   ]
  },
  {
   "cell_type": "code",
   "execution_count": 12,
   "metadata": {
    "executionInfo": {
     "elapsed": 68,
     "status": "ok",
     "timestamp": 1748767657641,
     "user": {
      "displayName": "Muhammad Huzaifa",
      "userId": "09165703747947924483"
     },
     "user_tz": -300
    },
    "id": "vDzHVzlP28pt"
   },
   "outputs": [],
   "source": [
    "supervisor_intruction=\"\"\"\n",
    "Task Delegation: Assign tasks to appropriate agents based on their expertise (e.g., billing issues to a billing agent, technical queries to a technical agent).\n",
    "Workflow Management: Define the sequence of tasks and ensure smooth handoffs between agents.\n",
    "Decision-Making: Evaluate agent outputs, resolve conflicts, and make high-level decisions to meet objectives.\n",
    "Monitoring and Reporting: Track agent performance, log progress, and provide summaries or reports to stakeholders.\n",
    "Error Handling: Detect and address failures, such as agent errors or incomplete tasks, by reassigning or escalating issues.\n",
    "Communication: Serve as the central point for agent interactions, ensuring clear instructions and feedback.\n",
    "\"\"\""
   ]
  },
  {
   "cell_type": "code",
   "execution_count": 13,
   "metadata": {
    "executionInfo": {
     "elapsed": 38,
     "status": "ok",
     "timestamp": 1748767657682,
     "user": {
      "displayName": "Muhammad Huzaifa",
      "userId": "09165703747947924483"
     },
     "user_tz": -300
    },
    "id": "APE3LT2b2Xzl"
   },
   "outputs": [],
   "source": [
    "SUPERVISOR_AGENT=Agent(\n",
    "    name=\"Supervisor Agent\",\n",
    "    instructions=supervisor_intruction,\n",
    "    model=model,\n",
    "    tools=[\n",
    "        search_agent.as_tool(tool_name=\"search_agent\",\n",
    "                             tool_description=\"Specialized in Searching and Browsing on the Book\"\n",
    "                             )\n",
    "     ],\n",
    "    handoffs=[BILLING_AGENT, TECHNICAL_AGENT],\n",
    "\n",
    ")\n",
    "\n",
    "\n"
   ]
  },
  {
   "cell_type": "code",
   "execution_count": 32,
   "metadata": {
    "executionInfo": {
     "elapsed": 48,
     "status": "ok",
     "timestamp": 1748768712470,
     "user": {
      "displayName": "Muhammad Huzaifa",
      "userId": "09165703747947924483"
     },
     "user_tz": -300
    },
    "id": "bPW7MtKi9qUh"
   },
   "outputs": [],
   "source": [
    "from agents import set_tracing_disabled\n",
    "\n",
    "set_tracing_disabled(True)"
   ]
  },
  {
   "cell_type": "code",
   "execution_count": 33,
   "metadata": {
    "colab": {
     "base_uri": "https://localhost:8080/",
     "height": 417
    },
    "executionInfo": {
     "elapsed": 613,
     "status": "ok",
     "timestamp": 1748768714853,
     "user": {
      "displayName": "Muhammad Huzaifa",
      "userId": "09165703747947924483"
     },
     "user_tz": -300
    },
    "id": "gvFD34jL-6oy",
    "outputId": "6384edf0-3df4-4967-dcf2-6c86dfba42d8"
   },
   "outputs": [
    {
     "data": {
      "image/svg+xml": [
       "<?xml version=\"1.0\" encoding=\"UTF-8\" standalone=\"no\"?>\n",
       "<!DOCTYPE svg PUBLIC \"-//W3C//DTD SVG 1.1//EN\"\n",
       " \"http://www.w3.org/Graphics/SVG/1.1/DTD/svg11.dtd\">\n",
       "<!-- Generated by graphviz version 2.43.0 (0)\n",
       " -->\n",
       "<!-- Title: G Pages: 1 -->\n",
       "<svg width=\"402pt\" height=\"297pt\"\n",
       " viewBox=\"0.00 0.00 401.80 297.05\" xmlns=\"http://www.w3.org/2000/svg\" xmlns:xlink=\"http://www.w3.org/1999/xlink\">\n",
       "<g id=\"graph0\" class=\"graph\" transform=\"scale(1 1) rotate(0) translate(4 293.05)\">\n",
       "<title>G</title>\n",
       "<polygon fill=\"white\" stroke=\"transparent\" points=\"-4,4 -4,-293.05 397.8,-293.05 397.8,4 -4,4\"/>\n",
       "<!-- __start__ -->\n",
       "<g id=\"node1\" class=\"node\">\n",
       "<title>__start__</title>\n",
       "<ellipse fill=\"lightblue\" stroke=\"black\" cx=\"139.3\" cy=\"-272.79\" rx=\"51.74\" ry=\"16.03\"/>\n",
       "<text text-anchor=\"middle\" x=\"139.3\" y=\"-269.09\" font-family=\"Arial\" font-size=\"14.00\">__start__</text>\n",
       "</g>\n",
       "<!-- Supervisor Agent -->\n",
       "<g id=\"node3\" class=\"node\">\n",
       "<title>Supervisor Agent</title>\n",
       "<polygon fill=\"lightyellow\" stroke=\"black\" points=\"198.8,-220.53 79.8,-220.53 79.8,-162.53 198.8,-162.53 198.8,-220.53\"/>\n",
       "<text text-anchor=\"middle\" x=\"139.3\" y=\"-187.83\" font-family=\"Arial\" font-size=\"14.00\">Supervisor Agent</text>\n",
       "</g>\n",
       "<!-- __start__&#45;&gt;Supervisor Agent -->\n",
       "<g id=\"edge1\" class=\"edge\">\n",
       "<title>__start__&#45;&gt;Supervisor Agent</title>\n",
       "<path fill=\"none\" stroke=\"black\" stroke-width=\"1.5\" d=\"M139.3,-256.51C139.3,-249.12 139.3,-239.89 139.3,-230.76\"/>\n",
       "<polygon fill=\"black\" stroke=\"black\" stroke-width=\"1.5\" points=\"142.8,-230.6 139.3,-220.6 135.8,-230.6 142.8,-230.6\"/>\n",
       "</g>\n",
       "<!-- __end__ -->\n",
       "<g id=\"node2\" class=\"node\">\n",
       "<title>__end__</title>\n",
       "<ellipse fill=\"lightblue\" stroke=\"black\" cx=\"274.3\" cy=\"-16.26\" rx=\"48.58\" ry=\"16.03\"/>\n",
       "<text text-anchor=\"middle\" x=\"274.3\" y=\"-12.56\" font-family=\"Arial\" font-size=\"14.00\">__end__</text>\n",
       "</g>\n",
       "<!-- search_agent -->\n",
       "<g id=\"node4\" class=\"node\">\n",
       "<title>search_agent</title>\n",
       "<ellipse fill=\"lightgreen\" stroke=\"black\" cx=\"69.3\" cy=\"-97.53\" rx=\"69.09\" ry=\"16.03\"/>\n",
       "<text text-anchor=\"middle\" x=\"69.3\" y=\"-93.83\" font-family=\"Arial\" font-size=\"14.00\">search_agent</text>\n",
       "</g>\n",
       "<!-- Supervisor Agent&#45;&gt;search_agent -->\n",
       "<g id=\"edge2\" class=\"edge\">\n",
       "<title>Supervisor Agent&#45;&gt;search_agent</title>\n",
       "<path fill=\"none\" stroke=\"black\" stroke-width=\"1.5\" stroke-dasharray=\"1,5\" d=\"M111.64,-162.42C101.15,-149.58 89.8,-134.54 81.37,-122.27\"/>\n",
       "<polygon fill=\"black\" stroke=\"black\" stroke-width=\"1.5\" points=\"84.26,-120.29 75.81,-113.9 78.43,-124.17 84.26,-120.29\"/>\n",
       "</g>\n",
       "<!-- Billing Agent -->\n",
       "<g id=\"node5\" class=\"node\">\n",
       "<title>Billing Agent</title>\n",
       "<polygon fill=\"lightyellow\" stroke=\"black\" points=\"264.3,-126.53 156.3,-126.53 156.3,-68.53 264.3,-68.53 264.3,-126.53\"/>\n",
       "<text text-anchor=\"middle\" x=\"210.3\" y=\"-93.83\" font-family=\"Arial\" font-size=\"14.00\">Billing Agent</text>\n",
       "</g>\n",
       "<!-- Supervisor Agent&#45;&gt;Billing Agent -->\n",
       "<g id=\"edge4\" class=\"edge\">\n",
       "<title>Supervisor Agent&#45;&gt;Billing Agent</title>\n",
       "<path fill=\"none\" stroke=\"black\" stroke-width=\"1.5\" d=\"M160.98,-162.42C167.73,-153.68 175.27,-143.91 182.39,-134.69\"/>\n",
       "<polygon fill=\"black\" stroke=\"black\" stroke-width=\"1.5\" points=\"185.16,-136.83 188.5,-126.77 179.62,-132.55 185.16,-136.83\"/>\n",
       "</g>\n",
       "<!-- Technical Agent -->\n",
       "<g id=\"node6\" class=\"node\">\n",
       "<title>Technical Agent</title>\n",
       "<polygon fill=\"lightyellow\" stroke=\"black\" points=\"393.8,-126.53 282.8,-126.53 282.8,-68.53 393.8,-68.53 393.8,-126.53\"/>\n",
       "<text text-anchor=\"middle\" x=\"338.3\" y=\"-93.83\" font-family=\"Arial\" font-size=\"14.00\">Technical Agent</text>\n",
       "</g>\n",
       "<!-- Supervisor Agent&#45;&gt;Technical Agent -->\n",
       "<g id=\"edge6\" class=\"edge\">\n",
       "<title>Supervisor Agent&#45;&gt;Technical Agent</title>\n",
       "<path fill=\"none\" stroke=\"black\" stroke-width=\"1.5\" d=\"M199,-162.92C222.45,-152.08 249.43,-139.61 273.36,-128.55\"/>\n",
       "<polygon fill=\"black\" stroke=\"black\" stroke-width=\"1.5\" points=\"275.11,-131.6 282.72,-124.22 272.17,-125.24 275.11,-131.6\"/>\n",
       "</g>\n",
       "<!-- search_agent&#45;&gt;Supervisor Agent -->\n",
       "<g id=\"edge3\" class=\"edge\">\n",
       "<title>search_agent&#45;&gt;Supervisor Agent</title>\n",
       "<path fill=\"none\" stroke=\"black\" stroke-width=\"1.5\" stroke-dasharray=\"1,5\" d=\"M85.72,-113.38C95.52,-124.42 107.85,-139.98 118.29,-154.23\"/>\n",
       "<polygon fill=\"black\" stroke=\"black\" stroke-width=\"1.5\" points=\"115.51,-156.35 124.19,-162.42 121.19,-152.26 115.51,-156.35\"/>\n",
       "</g>\n",
       "<!-- Billing Agent&#45;&gt;__end__ -->\n",
       "<g id=\"edge5\" class=\"edge\">\n",
       "<title>Billing Agent&#45;&gt;__end__</title>\n",
       "<path fill=\"none\" stroke=\"black\" stroke-width=\"1.5\" d=\"M233.04,-68.36C240.45,-59.19 248.58,-49.12 255.65,-40.36\"/>\n",
       "<polygon fill=\"black\" stroke=\"black\" stroke-width=\"1.5\" points=\"258.48,-42.42 262.04,-32.44 253.04,-38.02 258.48,-42.42\"/>\n",
       "</g>\n",
       "<!-- Technical Agent&#45;&gt;__end__ -->\n",
       "<g id=\"edge7\" class=\"edge\">\n",
       "<title>Technical Agent&#45;&gt;__end__</title>\n",
       "<path fill=\"none\" stroke=\"black\" stroke-width=\"1.5\" d=\"M315.55,-68.36C308.15,-59.19 300.02,-49.12 292.95,-40.36\"/>\n",
       "<polygon fill=\"black\" stroke=\"black\" stroke-width=\"1.5\" points=\"295.56,-38.02 286.55,-32.44 290.11,-42.42 295.56,-38.02\"/>\n",
       "</g>\n",
       "</g>\n",
       "</svg>\n"
      ],
      "text/plain": [
       "<graphviz.sources.Source at 0x7ae07b7b7890>"
      ]
     },
     "execution_count": 33,
     "metadata": {},
     "output_type": "execute_result"
    }
   ],
   "source": [
    "from agents.extensions.visualization import draw_graph\n",
    "\n",
    "draw_graph(SUPERVISOR_AGENT)"
   ]
  },
  {
   "cell_type": "code",
   "execution_count": 51,
   "metadata": {
    "colab": {
     "base_uri": "https://localhost:8080/"
    },
    "executionInfo": {
     "elapsed": 6011,
     "status": "ok",
     "timestamp": 1748773132217,
     "user": {
      "displayName": "Muhammad Huzaifa",
      "userId": "09165703747947924483"
     },
     "user_tz": -300
    },
    "id": "jlAukeOa_e_8",
    "outputId": "9c17e5be-cbe5-4412-8c0f-1c25fb7bdd03"
   },
   "outputs": [
    {
     "name": "stdout",
     "output_type": "stream",
     "text": [
      "**Technical Agent**:\n",
      "\n",
      " Okay, I understand your iPhone's battery is draining quickly. This is a common issue and we can troubleshoot it. To give you the best advice, I need a little more information.  Please tell me:\n",
      "\n",
      "1.  **What model iPhone do you have?** (e.g., iPhone 8, iPhone 12, iPhone 14 Pro) This helps me know what software updates and specific features are available.\n",
      "2.  **What version of iOS is installed?** (You can find this in Settings > General > About > Software Version).\n",
      "3.  **How old is your iPhone?**  Battery health degrades over time.\n",
      "4.  **When did you first notice the battery draining faster than usual?**\n",
      "5.  **What are your typical usage patterns?** (e.g., lots of video streaming, gaming, social media, mostly browsing, etc.)\n",
      "6.  **What steps have you already tried to troubleshoot the problem?** (e.g., restarting the phone, closing apps, etc.)\n",
      "\n",
      "In the meantime, here are some common steps you can take right away that often help:\n",
      "\n",
      "*   **Restart your iPhone:** This is a basic but often effective fix. Turn it off completely, wait a few seconds, and turn it back on.\n",
      "*   **Check Battery Usage:** Go to Settings > Battery and look at the Battery Usage by App section. This will show you which apps are consuming the most power.\n",
      "*   **Close Apps You're Not Using:** Apps running in the background can drain battery. Double-click the Home button (or swipe up from the bottom of the screen on iPhones without a Home button) to see your open apps and swipe up on the ones you don't need.\n",
      "*   **Lower Screen Brightness:** A bright screen consumes a lot of power. Lower the brightness from the Control Center (swipe down from the top-right corner of the screen on iPhones with Face ID, or up from the bottom on iPhones with a Home button). You can also enable Auto-Brightness in Settings > Accessibility > Display & Text Size.\n",
      "*   **Turn Off Location Services for Apps You Don't Need:** Go to Settings > Privacy > Location Services. Review the list and change the settings for apps that don't need constant location access to \"While Using the App\" or \"Never.\"\n",
      "*   **Disable Background App Refresh:** Go to Settings > General > Background App Refresh and turn it off completely, or disable it for specific apps.\n",
      "*   **Check Battery Health (for iPhone 6 and later):** Go to Settings > Battery > Battery Health.  This will tell you the Maximum Capacity of your battery.  Anything below 80% is a sign that the battery is significantly degraded and may need to be replaced. It will also indicate if your battery is supporting \"Peak Performance Capability.\" If it's not, that's also a sign the battery is struggling.\n",
      "*   **Update to the Latest iOS:**  Go to Settings > General > Software Update.  Sometimes, updates include battery optimizations. *However*, be aware that sometimes updates can initially *increase* battery drain while the system re-indexes and optimizes.\n",
      "*   **Enable Low Power Mode:** Go to Settings > Battery and turn on Low Power Mode. This reduces background activity and some visual effects to conserve battery.\n",
      "\n",
      "Once you provide me with the additional information, I can give you more tailored advice.\n",
      "\n"
     ]
    },
    {
     "data": {
      "text/plain": [
       "[{'content': 'I was trouble my iphone battery dranage day by day how to resolve it',\n",
       "  'role': 'user'},\n",
       " {'arguments': '{}',\n",
       "  'call_id': '',\n",
       "  'name': 'transfer_to_technical_agent',\n",
       "  'type': 'function_call',\n",
       "  'id': '__fake_id__'},\n",
       " {'call_id': '',\n",
       "  'output': \"{'assistant': 'Technical Agent'}\",\n",
       "  'type': 'function_call_output'},\n",
       " {'id': '__fake_id__',\n",
       "  'content': [{'annotations': [],\n",
       "    'text': 'Okay, I understand your iPhone\\'s battery is draining quickly. This is a common issue and we can troubleshoot it. To give you the best advice, I need a little more information.  Please tell me:\\n\\n1.  **What model iPhone do you have?** (e.g., iPhone 8, iPhone 12, iPhone 14 Pro) This helps me know what software updates and specific features are available.\\n2.  **What version of iOS is installed?** (You can find this in Settings > General > About > Software Version).\\n3.  **How old is your iPhone?**  Battery health degrades over time.\\n4.  **When did you first notice the battery draining faster than usual?**\\n5.  **What are your typical usage patterns?** (e.g., lots of video streaming, gaming, social media, mostly browsing, etc.)\\n6.  **What steps have you already tried to troubleshoot the problem?** (e.g., restarting the phone, closing apps, etc.)\\n\\nIn the meantime, here are some common steps you can take right away that often help:\\n\\n*   **Restart your iPhone:** This is a basic but often effective fix. Turn it off completely, wait a few seconds, and turn it back on.\\n*   **Check Battery Usage:** Go to Settings > Battery and look at the Battery Usage by App section. This will show you which apps are consuming the most power.\\n*   **Close Apps You\\'re Not Using:** Apps running in the background can drain battery. Double-click the Home button (or swipe up from the bottom of the screen on iPhones without a Home button) to see your open apps and swipe up on the ones you don\\'t need.\\n*   **Lower Screen Brightness:** A bright screen consumes a lot of power. Lower the brightness from the Control Center (swipe down from the top-right corner of the screen on iPhones with Face ID, or up from the bottom on iPhones with a Home button). You can also enable Auto-Brightness in Settings > Accessibility > Display & Text Size.\\n*   **Turn Off Location Services for Apps You Don\\'t Need:** Go to Settings > Privacy > Location Services. Review the list and change the settings for apps that don\\'t need constant location access to \"While Using the App\" or \"Never.\"\\n*   **Disable Background App Refresh:** Go to Settings > General > Background App Refresh and turn it off completely, or disable it for specific apps.\\n*   **Check Battery Health (for iPhone 6 and later):** Go to Settings > Battery > Battery Health.  This will tell you the Maximum Capacity of your battery.  Anything below 80% is a sign that the battery is significantly degraded and may need to be replaced. It will also indicate if your battery is supporting \"Peak Performance Capability.\" If it\\'s not, that\\'s also a sign the battery is struggling.\\n*   **Update to the Latest iOS:**  Go to Settings > General > Software Update.  Sometimes, updates include battery optimizations. *However*, be aware that sometimes updates can initially *increase* battery drain while the system re-indexes and optimizes.\\n*   **Enable Low Power Mode:** Go to Settings > Battery and turn on Low Power Mode. This reduces background activity and some visual effects to conserve battery.\\n\\nOnce you provide me with the additional information, I can give you more tailored advice.\\n',\n",
       "    'type': 'output_text'}],\n",
       "  'role': 'assistant',\n",
       "  'status': 'completed',\n",
       "  'type': 'message'}]"
      ]
     },
     "execution_count": 51,
     "metadata": {},
     "output_type": "execute_result"
    }
   ],
   "source": [
    "response = Runner.run_sync(SUPERVISOR_AGENT, \"I was trouble my iphone battery dranage day by day how to resolve it\")\n",
    "print(f\"**{response.last_agent.name}**:\\n\\n {response.final_output}\")\n",
    "response.to_input_list()"
   ]
  },
  {
   "cell_type": "code",
   "execution_count": null,
   "metadata": {
    "id": "3BT4R4Bt_Ei0"
   },
   "outputs": [],
   "source": []
  }
 ],
 "metadata": {
  "colab": {
   "authorship_tag": "ABX9TyPLNmizWBrvKRlv5K3lYuwg",
   "provenance": []
  },
  "kernelspec": {
   "display_name": "Python 3",
   "name": "python3"
  },
  "language_info": {
   "name": "python"
  }
 },
 "nbformat": 4,
 "nbformat_minor": 0
}
